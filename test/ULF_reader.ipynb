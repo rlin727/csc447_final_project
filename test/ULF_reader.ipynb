{
 "cells": [
  {
   "cell_type": "code",
   "execution_count": 1,
   "id": "b44eaccb",
   "metadata": {},
   "outputs": [],
   "source": [
    "import pandas as pd\n",
    "import numpy as np\n",
    "from typing import Dict\n",
    "from allennlp.data import DatasetReader, Instance, Vocabulary\n",
    "from allennlp.data.data_loaders import MultiProcessDataLoader\n",
    "from allennlp.data.fields import TextField, LabelField\n",
    "from allennlp.data.token_indexers import SingleIdTokenIndexer\n",
    "from allennlp.data.tokenizers import WhitespaceTokenizer"
   ]
  },
  {
   "cell_type": "code",
   "execution_count": 2,
   "id": "aff81deb",
   "metadata": {},
   "outputs": [],
   "source": [
    "class ULFReader(DatasetReader):\n",
    "    def __init__(self,\n",
    "                 max_instances = 100000,\n",
    "                 tokenizer = None,\n",
    "                 token_indexers = None,\n",
    "                 max_tokens= None):\n",
    "        \n",
    "        super().__init__(max_instances = max_instances)\n",
    "        self.tokenizer = tokenizer or WhitespaceTokenizer()\n",
    "        self.token_indexers = token_indexers or {'tokens': SingleIdTokenIndexer()}\n",
    "        self.max_tokens = max_tokens\n",
    "    \n",
    "    def text_to_instance(self, tokens, row):\n",
    "        sentence = TextField(tokens, self.token_indexers)\n",
    "        ID = LabelField(str(row['0']))\n",
    "        ULF = LabelField(row['2'])\n",
    "        ULF_AMR = LabelField(row['3'])\n",
    "        fields = {'text': sentence, 'ID': ID, 'ULF': ULF, 'ULF_AMR': ULF_AMR}\n",
    "        return Instance(fields)\n",
    "    \n",
    "    def _read(self, file_path: str):\n",
    "        df = pd.read_json(file_path)\n",
    "        df.columns = df.columns.astype(str)\n",
    "        for _ , row in df.iterrows():\n",
    "            text = row['1']\n",
    "            tokens = self.tokenizer.tokenize(text)\n",
    "            if self.max_tokens:\n",
    "                tokens = tokens[:self.max_tokens]\n",
    "            yield self.text_to_instance(tokens, row)"
   ]
  },
  {
   "cell_type": "code",
   "execution_count": 3,
   "id": "b6289c3a",
   "metadata": {},
   "outputs": [],
   "source": [
    "data_path = \"ulf-1.0-stog.json\""
   ]
  },
  {
   "cell_type": "code",
   "execution_count": 4,
   "id": "634c583a",
   "metadata": {},
   "outputs": [
    {
     "data": {
      "application/vnd.jupyter.widget-view+json": {
       "model_id": "6b72b10fe6ab4a06ae03bc9d1401e723",
       "version_major": 2,
       "version_minor": 0
      },
      "text/plain": [
       "loading instances: 0it [00:00, ?it/s]"
      ]
     },
     "metadata": {},
     "output_type": "display_data"
    },
    {
     "data": {
      "application/vnd.jupyter.widget-view+json": {
       "model_id": "f3ce644c32564c619de8087cac233ab0",
       "version_major": 2,
       "version_minor": 0
      },
      "text/plain": [
       "building vocab: 0it [00:00, ?it/s]"
      ]
     },
     "metadata": {},
     "output_type": "display_data"
    },
    {
     "name": "stdout",
     "output_type": "stream",
     "text": [
      "{'text': {'tokens': {'tokens': tensor([[ 283,  180,  771,    0,    0,    0,    0,    0,    0,    0,    0,    0,\n",
      "            0,    0,    0,    0,    0],\n",
      "        [1345,   11,  284, 1346,    7,  140,   90,   37, 1347, 1348,  251,  772,\n",
      "            0,    0,    0,    0,    0],\n",
      "        [  81,  773,   40, 1349,    0,    0,    0,    0,    0,    0,    0,    0,\n",
      "            0,    0,    0,    0,    0],\n",
      "        [1350,    2, 1351,    0,    0,    0,    0,    0,    0,    0,    0,    0,\n",
      "            0,    0,    0,    0,    0],\n",
      "        [ 147,   27,   70,   47,  774,    4, 1352,   95,   47,   51,   36,  405,\n",
      "           70,   47,  774,    4, 1353],\n",
      "        [   7,   71,   63,  141,    0,    0,    0,    0,    0,    0,    0,    0,\n",
      "            0,    0,    0,    0,    0],\n",
      "        [   7,  775,   40, 1354,    0,    0,    0,    0,    0,    0,    0,    0,\n",
      "            0,    0,    0,    0,    0],\n",
      "        [ 776, 1355,   11,  406,    0,    0,    0,    0,    0,    0,    0,    0,\n",
      "            0,    0,    0,    0,    0],\n",
      "        [ 205,   31, 1356,    0,    0,    0,    0,    0,    0,    0,    0,    0,\n",
      "            0,    0,    0,    0,    0],\n",
      "        [   7,   71, 1357,    0,    0,    0,    0,    0,    0,    0,    0,    0,\n",
      "            0,    0,    0,    0,    0]])}}, 'ID': tensor([ 2,  5,  8, 11, 14, 17, 20, 23, 26, 29]), 'ULF': tensor([ 3,  6,  9, 12, 15, 18, 21, 24, 27, 30]), 'ULF_AMR': tensor([ 4,  7, 10, 13, 16, 19, 22, 25, 28, 31])}\n"
     ]
    }
   ],
   "source": [
    "reader = ULFReader()\n",
    "dataloader = MultiProcessDataLoader(reader, data_path ,batch_size=10) \n",
    "instances = dataloader.iter_instances()  \n",
    "vocab = Vocabulary.from_instances(instances)   \n",
    "dataloader.index_with(vocab) \n",
    "for batch in dataloader:\n",
    "    print(batch)\n",
    "    break"
   ]
  },
  {
   "cell_type": "code",
   "execution_count": null,
   "id": "a31d4850",
   "metadata": {},
   "outputs": [],
   "source": []
  }
 ],
 "metadata": {
  "kernelspec": {
   "display_name": "Python 3",
   "language": "python",
   "name": "python3"
  },
  "language_info": {
   "codemirror_mode": {
    "name": "ipython",
    "version": 3
   },
   "file_extension": ".py",
   "mimetype": "text/x-python",
   "name": "python",
   "nbconvert_exporter": "python",
   "pygments_lexer": "ipython3",
   "version": "3.8.8"
  }
 },
 "nbformat": 4,
 "nbformat_minor": 5
}
