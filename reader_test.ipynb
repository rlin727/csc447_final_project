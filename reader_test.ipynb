{
 "cells": [
  {
   "cell_type": "code",
   "execution_count": 2,
   "id": "d3eadb81",
   "metadata": {
    "scrolled": false
   },
   "outputs": [
    {
     "name": "stdout",
     "output_type": "stream",
     "text": [
      "2022-04-30 19:09:53,423 - INFO - allennlp.common.params - random_seed = 13370"
     ]
    },
    {
     "name": "stderr",
     "output_type": "stream",
     "text": [
      "2022-04-30 19:09:53,421 - WARNING - allennlp.common.params - error loading _jsonnet (this is expected on Windows), treating configs\\conf.jsonnet as plain json"
     ]
    },
    {
     "name": "stdout",
     "output_type": "stream",
     "text": [
      "\n",
      "2022-04-30 19:09:53,423 - INFO - allennlp.common.params - numpy_seed = 1337\n",
      "2022-04-30 19:09:53,423 - INFO - allennlp.common.params - pytorch_seed = 133\n",
      "2022-04-30 19:09:53,426 - INFO - allennlp.common.checks - Pytorch version: 1.11.0+cpu\n",
      "2022-04-30 19:09:53,426 - INFO - allennlp.common.params - type = default\n",
      "2022-04-30 19:09:53,427 - INFO - allennlp.common.params - dataset_reader.type = ULF_reader\n",
      "2022-04-30 19:09:53,427 - INFO - allennlp.common.params - dataset_reader.max_instances = 100000\n",
      "2022-04-30 19:09:53,427 - INFO - allennlp.common.params - dataset_reader.tokenizer = None\n",
      "2022-04-30 19:09:53,427 - INFO - allennlp.common.params - dataset_reader.token_indexers = None\n",
      "2022-04-30 19:09:53,435 - INFO - allennlp.common.params - dataset_reader.max_tokens = None\n",
      "2022-04-30 19:09:53,435 - INFO - allennlp.common.params - train_data_path = data/train/train.json\n",
      "2022-04-30 19:09:53,435 - INFO - allennlp.common.params - model = None\n",
      "2022-04-30 19:09:53,435 - INFO - allennlp.common.params - trainer = None\n",
      "2022-04-30 19:09:53,435 - INFO - allennlp.common.params - vocabulary = <allennlp.common.lazy.Lazy object at 0x0000017468B34520>\n",
      "2022-04-30 19:09:53,435 - INFO - allennlp.common.params - datasets_for_vocab_creation = None\n",
      "2022-04-30 19:09:53,435 - INFO - allennlp.common.params - validation_dataset_reader = None\n",
      "2022-04-30 19:09:53,436 - INFO - allennlp.common.params - validation_data_path = data/validation/validation.json\n",
      "2022-04-30 19:09:53,436 - INFO - allennlp.common.params - validation_data_loader = None\n",
      "2022-04-30 19:09:53,436 - INFO - allennlp.common.params - test_data_path = None\n",
      "2022-04-30 19:09:53,436 - INFO - allennlp.common.params - evaluate_on_test = False\n",
      "2022-04-30 19:09:53,436 - INFO - allennlp.common.params - batch_weight_key = \n",
      "2022-04-30 19:09:53,436 - INFO - allennlp.common.params - data_loader.type = simpleloader_test\n",
      "2022-04-30 19:09:53,436 - INFO - allennlp.common.params - data_loader.batch_size = 100\n",
      "2022-04-30 19:09:53,436 - INFO - allennlp.common.params - data_loader.shuffle = False\n",
      "2022-04-30 19:09:53,436 - INFO - allennlp.common.params - data_loader.batches_per_epoch = None\n",
      "2022-04-30 19:09:53,437 - INFO - allennlp.common.params - data_loader.quiet = False\n",
      "2022-04-30 19:09:53,451 - INFO - numexpr.utils - Note: NumExpr detected 12 cores but \"NUMEXPR_MAX_THREADS\" not set, so enforcing safe limit of 8.\n",
      "2022-04-30 19:09:53,451 - INFO - numexpr.utils - NumExpr defaulting to 8 threads.\n",
      "2022-04-30 19:09:53,593 - INFO - allennlp.common.params - data_loader.type = simpleloader_test\n",
      "2022-04-30 19:09:53,594 - INFO - allennlp.common.params - data_loader.batch_size = 100\n",
      "2022-04-30 19:09:53,594 - INFO - allennlp.common.params - data_loader.shuffle = False\n",
      "2022-04-30 19:09:53,594 - INFO - allennlp.common.params - data_loader.batches_per_epoch = None\n",
      "2022-04-30 19:09:53,594 - INFO - allennlp.common.params - data_loader.quiet = False\n",
      "2022-04-30 19:09:53,616 - INFO - allennlp.common.params - type = from_instances\n",
      "2022-04-30 19:09:53,616 - INFO - allennlp.common.params - min_count = None\n",
      "2022-04-30 19:09:53,616 - INFO - allennlp.common.params - max_vocab_size = None\n",
      "2022-04-30 19:09:53,616 - INFO - allennlp.common.params - non_padded_namespaces = ('*tags', '*labels')\n",
      "2022-04-30 19:09:53,616 - INFO - allennlp.common.params - pretrained_files = None\n",
      "2022-04-30 19:09:53,616 - INFO - allennlp.common.params - only_include_pretrained_words = False\n",
      "2022-04-30 19:09:53,616 - INFO - allennlp.common.params - tokens_to_add = None\n",
      "2022-04-30 19:09:53,617 - INFO - allennlp.common.params - min_pretrained_embeddings = None\n",
      "2022-04-30 19:09:53,617 - INFO - allennlp.common.params - padding_token = @@PADDING@@\n",
      "2022-04-30 19:09:53,617 - INFO - allennlp.common.params - oov_token = @@UNKNOWN@@\n",
      "2022-04-30 19:09:53,617 - INFO - allennlp.data.vocabulary - Fitting token dictionary from dataset.\n"
     ]
    },
    {
     "name": "stderr",
     "output_type": "stream",
     "text": [
      "\n",
      "2022-04-30 19:09:53,421 - INFO - allennlp.common.params - evaluation = None\n",
      "2022-04-30 19:09:53,422 - INFO - allennlp.common.params - include_in_archive = None\n",
      "\n",
      "loading instances: 0it [00:00, ?it/s]\n",
      "loading instances: 868it [00:00, 8679.93it/s]\n",
      "loading instances: 1378it [00:00, 8833.16it/s]\n",
      "\n",
      "loading instances: 0it [00:00, ?it/s]\n",
      "loading instances: 180it [00:00, 8573.02it/s]\n",
      "\n",
      "building vocab: 0it [00:00, ?it/s]\n",
      "building vocab: 1558it [00:00, 119850.44it/s]\n",
      "2022-04-30 19:09:53,639 - CRITICAL - root - Uncaught exception\n",
      "Traceback (most recent call last):\n",
      "  File \"c:\\users\\rui\\anaconda3\\lib\\runpy.py\", line 194, in _run_module_as_main\n",
      "    return _run_code(code, main_globals, None,\n",
      "  File \"c:\\users\\rui\\anaconda3\\lib\\runpy.py\", line 87, in _run_code\n",
      "    exec(code, run_globals)\n",
      "  File \"C:\\Users\\Rui\\anaconda3\\Scripts\\allennlp.exe\\__main__.py\", line 7, in <module>\n",
      "    sys.exit(run())\n",
      "  File \"c:\\users\\rui\\anaconda3\\lib\\site-packages\\allennlp\\__main__.py\", line 39, in run\n",
      "    main(prog=\"allennlp\")\n",
      "  File \"c:\\users\\rui\\anaconda3\\lib\\site-packages\\allennlp\\commands\\__init__.py\", line 120, in main\n",
      "    args.func(args)\n",
      "  File \"c:\\users\\rui\\anaconda3\\lib\\site-packages\\allennlp\\commands\\train.py\", line 111, in train_model_from_args\n",
      "    train_model_from_file(\n",
      "  File \"c:\\users\\rui\\anaconda3\\lib\\site-packages\\allennlp\\commands\\train.py\", line 177, in train_model_from_file\n",
      "    return train_model(\n",
      "  File \"c:\\users\\rui\\anaconda3\\lib\\site-packages\\allennlp\\commands\\train.py\", line 258, in train_model\n",
      "    model = _train_worker(\n",
      "  File \"c:\\users\\rui\\anaconda3\\lib\\site-packages\\allennlp\\commands\\train.py\", line 494, in _train_worker\n",
      "    train_loop = TrainModel.from_params(\n",
      "  File \"c:\\users\\rui\\anaconda3\\lib\\site-packages\\allennlp\\common\\from_params.py\", line 604, in from_params\n",
      "    return retyped_subclass.from_params(\n",
      "  File \"c:\\users\\rui\\anaconda3\\lib\\site-packages\\allennlp\\common\\from_params.py\", line 638, in from_params\n",
      "    return constructor_to_call(**kwargs)  # type: ignore\n",
      "  File \"c:\\users\\rui\\anaconda3\\lib\\site-packages\\allennlp\\commands\\train.py\", line 770, in from_partial_objects\n",
      "    model_ = model.construct(\n",
      "AttributeError: 'NoneType' object has no attribute 'construct'\n"
     ]
    }
   ],
   "source": [
    "!allennlp train --dry-run --include-package data_loader -s /tmp/data_loader/test/2 configs/conf.jsonnet"
   ]
  },
  {
   "cell_type": "code",
   "execution_count": 2,
   "id": "4f943490",
   "metadata": {},
   "outputs": [
    {
     "name": "stdout",
     "output_type": "stream",
     "text": [
      "^C\n"
     ]
    }
   ],
   "source": []
  },
  {
   "cell_type": "code",
   "execution_count": null,
   "id": "b8b44c90",
   "metadata": {},
   "outputs": [],
   "source": []
  }
 ],
 "metadata": {
  "kernelspec": {
   "display_name": "Python 3",
   "language": "python",
   "name": "python3"
  },
  "language_info": {
   "codemirror_mode": {
    "name": "ipython",
    "version": 3
   },
   "file_extension": ".py",
   "mimetype": "text/x-python",
   "name": "python",
   "nbconvert_exporter": "python",
   "pygments_lexer": "ipython3",
   "version": "3.8.8"
  }
 },
 "nbformat": 4,
 "nbformat_minor": 5
}
